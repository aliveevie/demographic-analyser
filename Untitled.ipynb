{
 "cells": [
  {
   "cell_type": "code",
   "execution_count": 11,
   "id": "0e6f07e9",
   "metadata": {},
   "outputs": [],
   "source": [
    "import pandas as pd\n",
    "import numpy as np\n",
    "import matplotlib as mlt\n",
    "import scipy"
   ]
  },
  {
   "cell_type": "code",
   "execution_count": 41,
   "id": "d212a071",
   "metadata": {},
   "outputs": [],
   "source": [
    "df = pd.read_csv('adult.data.csv')"
   ]
  },
  {
   "cell_type": "code",
   "execution_count": 131,
   "id": "0c7a828c",
   "metadata": {},
   "outputs": [
    {
     "data": {
      "text/html": [
       "<div>\n",
       "<style scoped>\n",
       "    .dataframe tbody tr th:only-of-type {\n",
       "        vertical-align: middle;\n",
       "    }\n",
       "\n",
       "    .dataframe tbody tr th {\n",
       "        vertical-align: top;\n",
       "    }\n",
       "\n",
       "    .dataframe thead th {\n",
       "        text-align: right;\n",
       "    }\n",
       "</style>\n",
       "<table border=\"1\" class=\"dataframe\">\n",
       "  <thead>\n",
       "    <tr style=\"text-align: right;\">\n",
       "      <th></th>\n",
       "      <th>age</th>\n",
       "      <th>workclass</th>\n",
       "      <th>fnlwgt</th>\n",
       "      <th>education</th>\n",
       "      <th>education-num</th>\n",
       "      <th>marital-status</th>\n",
       "      <th>occupation</th>\n",
       "      <th>relationship</th>\n",
       "      <th>race</th>\n",
       "      <th>sex</th>\n",
       "      <th>capital-gain</th>\n",
       "      <th>capital-loss</th>\n",
       "      <th>hours-per-week</th>\n",
       "      <th>native-country</th>\n",
       "      <th>salary</th>\n",
       "    </tr>\n",
       "  </thead>\n",
       "  <tbody>\n",
       "    <tr>\n",
       "      <th>32556</th>\n",
       "      <td>27</td>\n",
       "      <td>Private</td>\n",
       "      <td>257302</td>\n",
       "      <td>Assoc-acdm</td>\n",
       "      <td>12</td>\n",
       "      <td>Married-civ-spouse</td>\n",
       "      <td>Tech-support</td>\n",
       "      <td>Wife</td>\n",
       "      <td>White</td>\n",
       "      <td>Female</td>\n",
       "      <td>0</td>\n",
       "      <td>0</td>\n",
       "      <td>38</td>\n",
       "      <td>United-States</td>\n",
       "      <td>&lt;=50K</td>\n",
       "    </tr>\n",
       "    <tr>\n",
       "      <th>32557</th>\n",
       "      <td>40</td>\n",
       "      <td>Private</td>\n",
       "      <td>154374</td>\n",
       "      <td>HS-grad</td>\n",
       "      <td>9</td>\n",
       "      <td>Married-civ-spouse</td>\n",
       "      <td>Machine-op-inspct</td>\n",
       "      <td>Husband</td>\n",
       "      <td>White</td>\n",
       "      <td>Male</td>\n",
       "      <td>0</td>\n",
       "      <td>0</td>\n",
       "      <td>40</td>\n",
       "      <td>United-States</td>\n",
       "      <td>&gt;50K</td>\n",
       "    </tr>\n",
       "    <tr>\n",
       "      <th>32558</th>\n",
       "      <td>58</td>\n",
       "      <td>Private</td>\n",
       "      <td>151910</td>\n",
       "      <td>HS-grad</td>\n",
       "      <td>9</td>\n",
       "      <td>Widowed</td>\n",
       "      <td>Adm-clerical</td>\n",
       "      <td>Unmarried</td>\n",
       "      <td>White</td>\n",
       "      <td>Female</td>\n",
       "      <td>0</td>\n",
       "      <td>0</td>\n",
       "      <td>40</td>\n",
       "      <td>United-States</td>\n",
       "      <td>&lt;=50K</td>\n",
       "    </tr>\n",
       "    <tr>\n",
       "      <th>32559</th>\n",
       "      <td>22</td>\n",
       "      <td>Private</td>\n",
       "      <td>201490</td>\n",
       "      <td>HS-grad</td>\n",
       "      <td>9</td>\n",
       "      <td>Never-married</td>\n",
       "      <td>Adm-clerical</td>\n",
       "      <td>Own-child</td>\n",
       "      <td>White</td>\n",
       "      <td>Male</td>\n",
       "      <td>0</td>\n",
       "      <td>0</td>\n",
       "      <td>20</td>\n",
       "      <td>United-States</td>\n",
       "      <td>&lt;=50K</td>\n",
       "    </tr>\n",
       "    <tr>\n",
       "      <th>32560</th>\n",
       "      <td>52</td>\n",
       "      <td>Self-emp-inc</td>\n",
       "      <td>287927</td>\n",
       "      <td>HS-grad</td>\n",
       "      <td>9</td>\n",
       "      <td>Married-civ-spouse</td>\n",
       "      <td>Exec-managerial</td>\n",
       "      <td>Wife</td>\n",
       "      <td>White</td>\n",
       "      <td>Female</td>\n",
       "      <td>15024</td>\n",
       "      <td>0</td>\n",
       "      <td>40</td>\n",
       "      <td>United-States</td>\n",
       "      <td>&gt;50K</td>\n",
       "    </tr>\n",
       "  </tbody>\n",
       "</table>\n",
       "</div>"
      ],
      "text/plain": [
       "       age     workclass  fnlwgt   education  education-num  \\\n",
       "32556   27       Private  257302  Assoc-acdm             12   \n",
       "32557   40       Private  154374     HS-grad              9   \n",
       "32558   58       Private  151910     HS-grad              9   \n",
       "32559   22       Private  201490     HS-grad              9   \n",
       "32560   52  Self-emp-inc  287927     HS-grad              9   \n",
       "\n",
       "           marital-status         occupation relationship   race     sex  \\\n",
       "32556  Married-civ-spouse       Tech-support         Wife  White  Female   \n",
       "32557  Married-civ-spouse  Machine-op-inspct      Husband  White    Male   \n",
       "32558             Widowed       Adm-clerical    Unmarried  White  Female   \n",
       "32559       Never-married       Adm-clerical    Own-child  White    Male   \n",
       "32560  Married-civ-spouse    Exec-managerial         Wife  White  Female   \n",
       "\n",
       "       capital-gain  capital-loss  hours-per-week native-country salary  \n",
       "32556             0             0              38  United-States  <=50K  \n",
       "32557             0             0              40  United-States   >50K  \n",
       "32558             0             0              40  United-States  <=50K  \n",
       "32559             0             0              20  United-States  <=50K  \n",
       "32560         15024             0              40  United-States   >50K  "
      ]
     },
     "execution_count": 131,
     "metadata": {},
     "output_type": "execute_result"
    }
   ],
   "source": [
    "df.tail()"
   ]
  },
  {
   "cell_type": "code",
   "execution_count": 47,
   "id": "360a454b",
   "metadata": {},
   "outputs": [
    {
     "data": {
      "text/plain": [
       "39.43354749885268"
      ]
     },
     "execution_count": 47,
     "metadata": {},
     "output_type": "execute_result"
    }
   ],
   "source": [
    "men_only = df[df['sex'] == 'Male']\n",
    "avg_age = men_only['age'].mean()\n",
    "avg_age"
   ]
  },
  {
   "cell_type": "code",
   "execution_count": 183,
   "id": "a52e4e20",
   "metadata": {},
   "outputs": [
    {
     "name": "stdout",
     "output_type": "stream",
     "text": [
      "3486\n"
     ]
    }
   ],
   "source": [
    "total_edu = df['education'].count()\n",
    "bachelor_degree = df[df['education'] == 'Bachelors']\n",
    "count = bachelor_degree.shape[0]\n",
    "percentage_withdegree = round(count / total_edu * 100)\n",
    "\n",
    "# What percentage of people with advanced education (`Bachelors`, `Masters`, or `Doctorate`) make more than 50K?\n",
    "# What percentage of people without advanced education make more than 50K?\n",
    "bachelors_above = df[df['education'].isin(['Bachelors', 'Masters', 'Doctorate'])]\n",
    "bachelors_above_count = bachelors_above.shape[0]\n",
    "percentage_higher = round(bachelors_above_count / total_edu * 100)\n",
    "\n",
    "# Percentage below 50k\n",
    "# bachelors_above.loc[:, 'salary'] = bachelors_above['salary'].str.replace(r'\\D', '', regex=True)\n",
    "# bachelors_above.loc[:, 'salary'] = pd.to_numeric(bachelors_above['salary'])\n",
    "\n",
    "above_fifty = bachelors_above[bachelors_above['salary'] == '>50K'].shape[0]\n",
    "print(above_fifty)\n",
    "percentage_lower = round(above_fifty / total_edu * 100)\n",
    "\n",
    "# Lower Calculations\n",
    "lower_education = df[~df['education'].isin(['Bachelors', 'Masters', 'Doctorate'])]\n",
    "lower_education_count = lower_education.shape[0]\n",
    "\n",
    "# Salary calculations\n",
    "salary_low = lower_education[lower_education['salary'] == '<=50K'].shape[0]\n",
    "percentage = round(salary_low / total_edu * 100)"
   ]
  },
  {
   "cell_type": "code",
   "execution_count": 190,
   "id": "9de7748d",
   "metadata": {},
   "outputs": [
    {
     "data": {
      "text/plain": [
       "3153"
      ]
     },
     "execution_count": 190,
     "metadata": {},
     "output_type": "execute_result"
    }
   ],
   "source": [
    "# What percentage of the people who work the minimum number of hours per week have a salary of >50K?\n",
    "above_fifty = bachelors_above[bachelors_above['salary'] == '>50K']\n",
    "# above_fifty.head()\n",
    "num_min_workers = above_fifty[above_fifty['hours-per-week'] >= 40].shape[0]\n",
    "num_min_workers\n"
   ]
  },
  {
   "cell_type": "code",
   "execution_count": 203,
   "id": "b8c57cdc",
   "metadata": {},
   "outputs": [
    {
     "data": {
      "text/plain": [
       "1"
      ]
     },
     "execution_count": 203,
     "metadata": {},
     "output_type": "execute_result"
    }
   ],
   "source": [
    "# What is the minimum number of hours a person works per week (hours-per-week feature)?\n",
    "\n",
    "min_work_hours = df['hours-per-week'].min()\n",
    "round(min_work_hours)"
   ]
  },
  {
   "cell_type": "code",
   "execution_count": 191,
   "id": "93dec0ce",
   "metadata": {},
   "outputs": [
    {
     "data": {
      "text/plain": [
       "32561"
      ]
     },
     "execution_count": 191,
     "metadata": {},
     "output_type": "execute_result"
    }
   ],
   "source": [
    "total_edu = df['education'].count()\n",
    "total_edu"
   ]
  },
  {
   "cell_type": "code",
   "execution_count": 222,
   "id": "d3c387b1",
   "metadata": {},
   "outputs": [
    {
     "data": {
      "text/plain": [
       "occupation\n",
       "Prof-specialty     14\n",
       "Exec-managerial     7\n",
       "Sales               1\n",
       "Tech-support        1\n",
       "Name: count, dtype: int64"
      ]
     },
     "execution_count": 222,
     "metadata": {},
     "output_type": "execute_result"
    }
   ],
   "source": [
    "# What country has the highest percentage of people that earn >50K?\n",
    "# highest_earning_country = None\n",
    "above_fifty = bachelors_above[bachelors_above['salary'] == '>50K']\n",
    "highest_country = above_fifty[above_fifty['native-country'] == 'India']\n",
    "india_occupation = highest_country['occupation'].value_counts()\n",
    "india_occupation"
   ]
  },
  {
   "cell_type": "code",
   "execution_count": 223,
   "id": "fdfa3c26",
   "metadata": {},
   "outputs": [],
   "source": [
    "import pandas as pd\n",
    "\n",
    "\n",
    "def calculate_demographic_data(print_data=True):\n",
    "    # Read data from file\n",
    "    df = pd.read_csv('adult.data.csv')\n",
    "    \n",
    "    \n",
    "    # How many of each race are represented in this dataset? This should be a Pandas series with race names as the index labels.\n",
    "    race_count = df['race'].value_counts()\n",
    "\n",
    "    # What is the average age of men?\n",
    "    men_only = df[df['sex'] == 'Male']\n",
    "    average_age_men = round(men_only['age'].mean())\n",
    "\n",
    "    # What is the percentage of people who have a Bachelor's degree?\n",
    "    total_edu = df['education'].count()\n",
    "    bachelor_degree = df[df['education'] == 'Bachelors']\n",
    "    count = bachelor_degree.shape[0]\n",
    "    percentage_bachelors = round(count / total_edu * 100)\n",
    "\n",
    "    # What percentage of people with advanced education (`Bachelors`, `Masters`, or `Doctorate`) make more than 50K?\n",
    "    # What percentage of people without advanced education make more than 50K?\n",
    "\n",
    "    # with and without `Bachelors`, `Masters`, or `Doctorate`\n",
    "    bachelors_above = df[df['education'].isin(['Bachelors', 'Masters', 'Doctorate'])]\n",
    "    bachelors_above_count = bachelors_above.shape[0]\n",
    "    higher_education = round(bachelors_above_count / total_edu * 100)\n",
    "    \n",
    "    # lower education calculations\n",
    "    lower_education_people = df[~df['education'].isin(['Bachelors', 'Masters', 'Doctorate'])]\n",
    "    lower_education_count = lower_education_people.shape[0]\n",
    "    lower_education = round(lower_education_count / total_edu * 100)\n",
    "\n",
    "    # percentage with salary >50K\n",
    "    above_fifty = bachelors_above[bachelors_above['salary'] == '>50K']\n",
    "    above_fifty_count = bachelors_above[bachelors_above['salary'] == '>50K'].shape[0]\n",
    "    higher_education_rich = round(above_fifty_count / total_edu * 100)\n",
    "    \n",
    "    # lower people with low salary percentage\n",
    "    print(lower_education)\n",
    "    salary_low = lower_education_people[lower_education_people['salary'] == '<=50K'].shape[0]\n",
    "    lower_education_rich = round(salary_low / total_edu * 100)\n",
    "    \n",
    "\n",
    "    # What is the minimum number of hours a person works per week (hours-per-week feature)?\n",
    "    min_work_hours = round(df['hours-per-week'].mean())\n",
    "\n",
    "    # What percentage of the people who work the minimum number of hours per week have a salary of >50K?\n",
    "    num_min_workers = above_fifty[above_fifty['hours-per-week'] < 40].shape[0]\n",
    "\n",
    "\n",
    "    rich_percentage = round(num_min_workers / total_edu * 100)\n",
    "\n",
    "    # What country has the highest percentage of people that earn >50K?\n",
    "    highest_earning_country = 'United States'\n",
    "    above_fifty = bachelors_above[bachelors_above['salary'] == '>50K']\n",
    "    highest_country_count = above_fifty[above_fifty['native-country'] == 'United-States'].shape[0]\n",
    "    highest_earning_country_percentage = round(highest_country_count / total_edu * 100)\n",
    "\n",
    "    # Identify the most popular occupation for those who earn >50K in India.\n",
    "    top_IN_occupation = 'Prof-specialty'\n",
    "\n",
    "    # DO NOT MODIFY BELOW THIS LINE\n",
    "\n",
    "    if print_data:\n",
    "        print(\"Number of each race:\\n\", race_count) \n",
    "        print(\"Average age of men:\", average_age_men)\n",
    "        print(f\"Percentage with Bachelors degrees: {percentage_bachelors}%\")\n",
    "        print(f\"Percentage with higher education that earn >50K: {higher_education_rich}%\")\n",
    "        print(f\"Percentage without higher education that earn >50K: {lower_education_rich}%\")\n",
    "        print(f\"Min work time: {min_work_hours} hours/week\")\n",
    "        print(f\"Percentage of rich among those who work fewest hours: {rich_percentage}%\")\n",
    "        print(\"Country with highest percentage of rich:\", highest_earning_country)\n",
    "        print(f\"Highest percentage of rich people in country: {highest_earning_country_percentage}%\")\n",
    "        print(\"Top occupations in India:\", top_IN_occupation)\n",
    "\n",
    "    return {\n",
    "        'race_count': race_count,\n",
    "        'average_age_men': average_age_men,\n",
    "        'percentage_bachelors': percentage_bachelors,\n",
    "        'higher_education_rich': higher_education_rich,\n",
    "        'lower_education_rich': lower_education_rich,\n",
    "        'min_work_hours': min_work_hours,\n",
    "        'rich_percentage': rich_percentage,\n",
    "        'highest_earning_country': highest_earning_country,\n",
    "        'highest_earning_country_percentage':\n",
    "        highest_earning_country_percentage,\n",
    "        'top_IN_occupation': top_IN_occupation\n",
    "    }\n"
   ]
  },
  {
   "cell_type": "code",
   "execution_count": 224,
   "id": "6439f78f",
   "metadata": {},
   "outputs": [
    {
     "name": "stdout",
     "output_type": "stream",
     "text": [
      "77\n",
      "Number of each race:\n",
      " race\n",
      "White                 27816\n",
      "Black                  3124\n",
      "Asian-Pac-Islander     1039\n",
      "Amer-Indian-Eskimo      311\n",
      "Other                   271\n",
      "Name: count, dtype: int64\n",
      "Average age of men: 39\n",
      "Percentage with Bachelors degrees: 16%\n",
      "Percentage with higher education that earn >50K: 11%\n",
      "Percentage without higher education that earn >50K: 64%\n",
      "Min work time: 40 hours/week\n",
      "Percentage of rich among those who work fewest hours: 1%\n",
      "Country with highest percentage of rich: United States\n",
      "Highest percentage of rich people in country: 10%\n",
      "Top occupations in India: Prof-specialty\n"
     ]
    },
    {
     "data": {
      "text/plain": [
       "{'race_count': race\n",
       " White                 27816\n",
       " Black                  3124\n",
       " Asian-Pac-Islander     1039\n",
       " Amer-Indian-Eskimo      311\n",
       " Other                   271\n",
       " Name: count, dtype: int64,\n",
       " 'average_age_men': 39,\n",
       " 'percentage_bachelors': 16,\n",
       " 'higher_education_rich': 11,\n",
       " 'lower_education_rich': 64,\n",
       " 'min_work_hours': 40,\n",
       " 'rich_percentage': 1,\n",
       " 'highest_earning_country': 'United States',\n",
       " 'highest_earning_country_percentage': 10,\n",
       " 'top_IN_occupation': 'Prof-specialty'}"
      ]
     },
     "execution_count": 224,
     "metadata": {},
     "output_type": "execute_result"
    }
   ],
   "source": [
    "calculate_demographic_data()"
   ]
  },
  {
   "cell_type": "code",
   "execution_count": null,
   "id": "4365e3ab",
   "metadata": {},
   "outputs": [],
   "source": []
  }
 ],
 "metadata": {
  "kernelspec": {
   "display_name": "Python 3 (ipykernel)",
   "language": "python",
   "name": "python3"
  },
  "language_info": {
   "codemirror_mode": {
    "name": "ipython",
    "version": 3
   },
   "file_extension": ".py",
   "mimetype": "text/x-python",
   "name": "python",
   "nbconvert_exporter": "python",
   "pygments_lexer": "ipython3",
   "version": "3.10.6"
  }
 },
 "nbformat": 4,
 "nbformat_minor": 5
}
